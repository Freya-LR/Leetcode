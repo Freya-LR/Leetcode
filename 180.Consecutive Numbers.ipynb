{
  "nbformat": 4,
  "nbformat_minor": 0,
  "metadata": {
    "colab": {
      "name": "180. Consecutive Numbers.ipynb",
      "provenance": [],
      "authorship_tag": "ABX9TyOLXuCrBXYVNGNrxh4jm9B8",
      "include_colab_link": true
    },
    "kernelspec": {
      "name": "python3",
      "display_name": "Python 3"
    },
    "language_info": {
      "name": "python"
    }
  },
  "cells": [
    {
      "cell_type": "markdown",
      "metadata": {
        "id": "view-in-github",
        "colab_type": "text"
      },
      "source": [
        "<a href=\"https://colab.research.google.com/github/Freya-LR/Leetcode/blob/main/180.Consecutive%20Numbers.ipynb\" target=\"_parent\"><img src=\"https://colab.research.google.com/assets/colab-badge.svg\" alt=\"Open In Colab\"/></a>"
      ]
    },
    {
      "cell_type": "code",
      "execution_count": null,
      "metadata": {
        "id": "Vm2i51KBuu1B"
      },
      "outputs": [],
      "source": [
        "Write an SQL query to find all numbers that appear at least three times consecutively."
      ]
    },
    {
      "cell_type": "code",
      "source": [
        "# Write your MySQL query statement below\n",
        "SELECT DISTINCT num as ConsecutiveNums\n",
        "FROM Logs\n",
        "WHERE (id+1, num) in (SELECT * FROM Logs) and (id+2, num) in (SELECT * FROM Logs)"
      ],
      "metadata": {
        "id": "V49TUqJIuvrM"
      },
      "execution_count": null,
      "outputs": []
    },
    {
      "cell_type": "code",
      "source": [
        "/* Write your T-SQL query statement below */\n",
        "SELECT DISTINCT l1.num AS ConsecutiveNums\n",
        "FROM Logs l1\n",
        " Join Logs l2  on l1.id = l2.id-1 \n",
        " join Logs l3 on l1.id=l3.id-2\n",
        " where  l1.num=l2.num\n",
        " and l1.num=l3.num"
      ],
      "metadata": {
        "id": "A9Uu1ejEv4dI"
      },
      "execution_count": null,
      "outputs": []
    }
  ]
}