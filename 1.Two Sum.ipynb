{
  "nbformat": 4,
  "nbformat_minor": 0,
  "metadata": {
    "colab": {
      "name": "Untitled0.ipynb",
      "provenance": [],
      "authorship_tag": "ABX9TyNd6TbDytQzLDPYi7vEq/Vc"
    },
    "kernelspec": {
      "name": "python3",
      "display_name": "Python 3"
    },
    "language_info": {
      "name": "python"
    }
  },
  "cells": [
    {
      "cell_type": "code",
      "metadata": {
        "id": "sQ1nYIm9CLtf"
      },
      "source": [
        "class Solution:\n",
        "    def twoSum(self, nums, target):\n",
        "\n",
        "      l = len(nums)\n",
        "      for i in range(l):\n",
        "        for j in range(li+1,):\n",
        "          if nums[i]+nums[j] == targe:\n",
        "            return [i,j] \n",
        "        \n",
        "      return []"
      ],
      "execution_count": 11,
      "outputs": []
    },
    {
      "cell_type": "code",
      "metadata": {
        "id": "S8f1IJcpFK-j"
      },
      "source": [
        ""
      ],
      "execution_count": null,
      "outputs": []
    }
  ]
}