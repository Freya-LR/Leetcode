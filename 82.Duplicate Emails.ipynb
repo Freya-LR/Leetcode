{
  "nbformat": 4,
  "nbformat_minor": 0,
  "metadata": {
    "colab": {
      "name": "82. Duplicate Emails",
      "provenance": [],
      "authorship_tag": "ABX9TyPHc5wCZTBfFX/jPRn6NHp5",
      "include_colab_link": true
    },
    "kernelspec": {
      "name": "python3",
      "display_name": "Python 3"
    },
    "language_info": {
      "name": "python"
    }
  },
  "cells": [
    {
      "cell_type": "markdown",
      "metadata": {
        "id": "view-in-github",
        "colab_type": "text"
      },
      "source": [
        "<a href=\"https://colab.research.google.com/github/Freya-LR/Leetcode/blob/main/82.Duplicate%20Emails.ipynb\" target=\"_parent\"><img src=\"https://colab.research.google.com/assets/colab-badge.svg\" alt=\"Open In Colab\"/></a>"
      ]
    },
    {
      "cell_type": "markdown",
      "source": [
        "Write an SQL query to report all the duplicate emails.\n",
        "Input: \n",
        "Person table:\n",
        "\n",
        "| id | email   |\n",
        "\n",
        "| 1  | a@b.com |\n",
        "\n",
        "| 2  | c@d.com |\n",
        "\n",
        "| 3  | a@b.com |\n",
        "\n",
        "Output: \n",
        "\n",
        "| Email   |\n",
        "\n",
        "| a@b.com |\n",
        "\n",
        "Explanation: a@b.com is repeated two times."
      ],
      "metadata": {
        "id": "sfhjg-nbCUYt"
      }
    },
    {
      "cell_type": "code",
      "source": [
        "# Write your MySQL query statement below\n",
        "select email from Person\n",
        "group by email\n",
        "having count(*)>1"
      ],
      "metadata": {
        "id": "V49TUqJIuvrM"
      },
      "execution_count": null,
      "outputs": []
    }
  ]
}