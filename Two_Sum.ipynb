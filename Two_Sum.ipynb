{
  "nbformat": 4,
  "nbformat_minor": 0,
  "metadata": {
    "colab": {
      "name": "Two Sum.ipynb",
      "provenance": [],
      "collapsed_sections": [],
      "authorship_tag": "ABX9TyOzMHmAAQakfSWhrlGGLPhO",
      "include_colab_link": true
    },
    "kernelspec": {
      "name": "python3",
      "display_name": "Python 3"
    },
    "language_info": {
      "name": "python"
    }
  },
  "cells": [
    {
      "cell_type": "markdown",
      "metadata": {
        "id": "view-in-github",
        "colab_type": "text"
      },
      "source": [
        "<a href=\"https://colab.research.google.com/github/Freya-LR/Leetcode/blob/main/Two_Sum.ipynb\" target=\"_parent\"><img src=\"https://colab.research.google.com/assets/colab-badge.svg\" alt=\"Open In Colab\"/></a>"
      ]
    },
    {
      "cell_type": "markdown",
      "metadata": {
        "id": "Zp-zxELW9a5a"
      },
      "source": [
        "Input: nums=[2,7,9,11], target: int =9\n",
        "Output: [0,1]"
      ]
    },
    {
      "cell_type": "code",
      "metadata": {
        "id": "sQ1nYIm9CLtf"
      },
      "source": [
        "class Solution:\n",
        "    def twoSum(self, nums, target):\n",
        "\n",
        "      l = len(nums)\n",
        "      for i in range(l):\n",
        "        for j in range(i+1,l):\n",
        "          if nums[i]+nums[j] == targe:\n",
        "            return [i,j] \n",
        "        \n",
        "      return []\n",
        "# Time: O(1), Space: O(N^2)"
      ],
      "execution_count": null,
      "outputs": []
    },
    {
      "cell_type": "code",
      "metadata": {
        "id": "S8f1IJcpFK-j"
      },
      "source": [
        "class Solution:\n",
        "    def twoSum(self, nums, target):\n",
        "      mapping={}\n",
        "      for index, val in enumerate(nums):\n",
        "        diff = target - val\n",
        "        if diff in mapping:\n",
        "          return [index, mapping[diff]]\n",
        "        else:\n",
        "          mapping[val]=index\n",
        "# Time: O(N)\n",
        "# Space:O(N)"
      ],
      "execution_count": null,
      "outputs": []
    }
  ]
}