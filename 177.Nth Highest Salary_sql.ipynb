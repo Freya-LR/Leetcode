{
  "nbformat": 4,
  "nbformat_minor": 0,
  "metadata": {
    "colab": {
      "name": "177. Nth Highest Salary.sql",
      "provenance": [],
      "authorship_tag": "ABX9TyPr0n+qu15uUoAl64pYQs8H",
      "include_colab_link": true
    },
    "kernelspec": {
      "name": "python3",
      "display_name": "Python 3"
    },
    "language_info": {
      "name": "python"
    }
  },
  "cells": [
    {
      "cell_type": "markdown",
      "metadata": {
        "id": "view-in-github",
        "colab_type": "text"
      },
      "source": [
        "<a href=\"https://colab.research.google.com/github/Freya-LR/Leetcode/blob/main/177.Nth%20Highest%20Salary_sql.ipynb\" target=\"_parent\"><img src=\"https://colab.research.google.com/assets/colab-badge.svg\" alt=\"Open In Colab\"/></a>"
      ]
    },
    {
      "cell_type": "markdown",
      "source": [
        "Input: \n",
        "Employee table:\n",
        "\n",
        " id | salary \n",
        "\n",
        " 1  | 100    \n",
        " 2  | 200    \n",
        " 3  | 300    \n",
        "\n",
        "n = 2\n",
        "\n",
        "Output: \n",
        " getNthHighestSalary(2) \n",
        " \n",
        " 200                    \n"
      ],
      "metadata": {
        "id": "qSatyLD2fHXx"
      }
    },
    {
      "cell_type": "code",
      "metadata": {
        "id": "NjUB-dYtG_p9"
      },
      "source": [
        "-- MS SQL\n",
        "\n",
        "CREATE FUNCTION getNthHighestSalary(@N INT) RETURNS INT AS\n",
        "BEGIN\n",
        "    RETURN (\n",
        "        /* Write your T-SQL query statement below. */\n",
        "    SELECT DISTINCT Salary FROM (SELECT Salary,\n",
        "                                 DENSE_RANK () OVER (ORDER BY Salary DESC) AS R\n",
        "                                 FROM Employee )  TEM\n",
        "        WHERE R=@N\n",
        "    );\n",
        "END"
      ],
      "execution_count": null,
      "outputs": []
    },
    {
      "cell_type": "code",
      "source": [
        "-- MySQL\n",
        "CREATE FUNCTION getNthHighestSalary(N INT) RETURNS INT\n",
        "BEGIN\n",
        "DECLARE M INT;\n",
        "M=N-1;\n",
        "RETURN ( \n",
        "    SELECT DISTINCT Salary FROM Employee ORDER BY Salary DESC LIMIT M,1\n",
        " );\n",
        "END"
      ],
      "metadata": {
        "id": "PeadJPOqertB"
      },
      "execution_count": null,
      "outputs": []
    }
  ]
}