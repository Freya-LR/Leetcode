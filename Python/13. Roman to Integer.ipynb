{
  "nbformat": 4,
  "nbformat_minor": 0,
  "metadata": {
    "colab": {
      "name": "26. Remove Duplicates from Sorted Array.ipynb",
      "provenance": [],
      "authorship_tag": "ABX9TyM5Vu+xLtQVmxLg8YBcGDk+",
      "include_colab_link": true
    },
    "kernelspec": {
      "name": "python3",
      "display_name": "Python 3"
    },
    "language_info": {
      "name": "python"
    }
  },
  "cells": [
    {
      "cell_type": "markdown",
      "metadata": {
        "id": "view-in-github",
        "colab_type": "text"
      },
      "source": [
        "<a href=\"https://colab.research.google.com/github/Freya-LR/Leetcode/blob/main/13.%20Roman%20to%20Integer.ipynb\" target=\"_parent\"><img src=\"https://colab.research.google.com/assets/colab-badge.svg\" alt=\"Open In Colab\"/></a>"
      ]
    },
    {
      "cell_type": "code",
      "metadata": {
        "id": "PJp5ZXsd3oKY"
      },
      "source": [
        "# String\n",
        " \n",
        "class Solution:\n",
        "    def romanToInt(self, s: str) -> int:\n",
        "        pre=0\n",
        "        res=0\n",
        "        dict={'I':1,'V':5,'X':10, 'L':50, 'C':100, 'D': 500, 'M':1000}\n",
        "        for i in reversed(s) :  # reverse string s\n",
        "            if dict[i]>=pre:  # if a digit is larger than or equal to the previous one, add this number\n",
        "                res += dict[i]  \n",
        "            else:  # otherwise, minus the number\n",
        "                res -= dict[i]\n",
        "            pre = dict[i]\n",
        "        return res\n",
        "                 "
      ],
      "execution_count": null,
      "outputs": []
    },
    {
      "cell_type": "code",
      "metadata": {
        "id": "ygoa0KCfK22Z"
      },
      "source": [
        ""
      ],
      "execution_count": null,
      "outputs": []
    }
  ]
}
