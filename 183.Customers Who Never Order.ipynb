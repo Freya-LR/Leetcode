{
  "nbformat": 4,
  "nbformat_minor": 0,
  "metadata": {
    "colab": {
      "name": "183. Customers Who Never Order",
      "provenance": [],
      "authorship_tag": "ABX9TyO+wynvePHac3Ech/mBpUa5",
      "include_colab_link": true
    },
    "kernelspec": {
      "name": "python3",
      "display_name": "Python 3"
    },
    "language_info": {
      "name": "python"
    }
  },
  "cells": [
    {
      "cell_type": "markdown",
      "metadata": {
        "id": "view-in-github",
        "colab_type": "text"
      },
      "source": [
        "<a href=\"https://colab.research.google.com/github/Freya-LR/Leetcode/blob/main/183.Customers%20Who%20Never%20Order.ipynb\" target=\"_parent\"><img src=\"https://colab.research.google.com/assets/colab-badge.svg\" alt=\"Open In Colab\"/></a>"
      ]
    },
    {
      "cell_type": "markdown",
      "source": [
        "Write an SQL query to report all customers who never order anything.\n",
        "Input: \n",
        "Customers table:\n",
        "\n",
        "| id | name  |\n",
        "\n",
        "| 1  | Joe   |\n",
        "| 2  | Henry |\n",
        "| 3  | Sam   |\n",
        "| 4  | Max   |\n",
        "\n",
        "Orders table:\n",
        "\n",
        "| id | customerId |\n",
        "\n",
        "| 1  | 3          |\n",
        "| 2  | 1          |\n",
        "\n",
        "Output: \n",
        "\n",
        "| Customers |\n",
        "\n",
        "| Henry     |\n",
        "| Max       |\n"
      ],
      "metadata": {
        "id": "sfhjg-nbCUYt"
      }
    },
    {
      "cell_type": "code",
      "source": [
        "/* Write your T-SQL query statement below */\n",
        "select c.name as Customers\n",
        "from Customers c\n",
        "left join Orders o\n",
        "on c.id=o.customerId\n",
        "where o.id is NULL"
      ],
      "metadata": {
        "id": "V49TUqJIuvrM"
      },
      "execution_count": null,
      "outputs": []
    },
    {
      "cell_type": "code",
      "source": [
        "# Write your MySQL query statement below\n",
        "select name as Customers \n",
        "from Customers \n",
        "where id not in (select customerId from Orders)"
      ],
      "metadata": {
        "id": "KgjULGZNMYWS"
      },
      "execution_count": null,
      "outputs": []
    }
  ]
}