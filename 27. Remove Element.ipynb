{
  "nbformat": 4,
  "nbformat_minor": 0,
  "metadata": {
    "colab": {
      "name": "26. Remove Duplicates from Sorted Array.ipynb",
      "provenance": [],
      "authorship_tag": "ABX9TyP8pYgVhelbOgkstWXcDlCa",
      "include_colab_link": true
    },
    "kernelspec": {
      "name": "python3",
      "display_name": "Python 3"
    },
    "language_info": {
      "name": "python"
    }
  },
  "cells": [
    {
      "cell_type": "markdown",
      "metadata": {
        "id": "view-in-github",
        "colab_type": "text"
      },
      "source": [
        "<a href=\"https://colab.research.google.com/github/Freya-LR/Leetcode/blob/main/27.%20Remove%20Element.ipynb\" target=\"_parent\"><img src=\"https://colab.research.google.com/assets/colab-badge.svg\" alt=\"Open In Colab\"/></a>"
      ]
    },
    {
      "cell_type": "code",
      "metadata": {
        "id": "PJp5ZXsd3oKY"
      },
      "source": [
        "# Array\n",
        "# similar to Q26\n",
        "# hint: Tme complexity is O(N), Space complexity is O(1), this method double indice only can be used,  \n",
        "# nums array is updated without sorted\n",
        "# when fast index != val, replace nums[index] by nums[fast index]\n",
        "class Solution:\n",
        "    def removeElement(self, nums: List[int], val: int) -> int:\n",
        "        \n",
        "        index = 0\n",
        "        for i in range(len(nums)):\n",
        "          if nums[i] != val:\n",
        "            nums[index]=nums[i]   # output nums is updated by new unduplicated array\n",
        "            index +=1\n",
        "        return index\n",
        "           \n",
        "          "
      ],
      "execution_count": null,
      "outputs": []
    }
  ]
}