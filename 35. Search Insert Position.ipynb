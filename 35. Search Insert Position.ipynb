{
  "nbformat": 4,
  "nbformat_minor": 0,
  "metadata": {
    "colab": {
      "name": "26. Remove Duplicates from Sorted Array.ipynb",
      "provenance": [],
      "authorship_tag": "ABX9TyO3Z/WoQ7fd2ie4VE87xxp8",
      "include_colab_link": true
    },
    "kernelspec": {
      "name": "python3",
      "display_name": "Python 3"
    },
    "language_info": {
      "name": "python"
    }
  },
  "cells": [
    {
      "cell_type": "markdown",
      "metadata": {
        "id": "view-in-github",
        "colab_type": "text"
      },
      "source": [
        "<a href=\"https://colab.research.google.com/github/Freya-LR/Leetcode/blob/main/35.%20Search%20Insert%20Position.ipynb\" target=\"_parent\"><img src=\"https://colab.research.google.com/assets/colab-badge.svg\" alt=\"Open In Colab\"/></a>"
      ]
    },
    {
      "cell_type": "code",
      "metadata": {
        "id": "PJp5ZXsd3oKY"
      },
      "source": [
        "# Array\n",
        "# hint: Tme complexity is O(log n), \n",
        "# if the target in nums, return the index, if not, add target into nums and resort, then return index\n",
        "# but this method time complexity O(N), might not meet the reqirement runtime complexity O(log n)\n",
        "class Solution:\n",
        "    def searchInsert(self, nums: List[int], target: int) -> int:\n",
        "        if target in nums:\n",
        "            return nums.index(target)\n",
        "        else:\n",
        "            nums.append(target)\n",
        "            nums.sort()\n",
        "            return nums.index(target)\n",
        "                 "
      ],
      "execution_count": null,
      "outputs": []
    },
    {
      "cell_type": "code",
      "metadata": {
        "colab": {
          "base_uri": "https://localhost:8080/"
        },
        "id": "ygoa0KCfK22Z",
        "outputId": "f92762e3-330e-4d5e-cd15-768136566beb"
      },
      "source": [
        "# \n",
        "\n",
        "\n",
        "def searchInsert(nums,target):\n",
        "    if target in nums: \n",
        "      return nums.index(target)\n",
        "    \n",
        "    right=len(nums)-1\n",
        "    left=0\n",
        "    if nums[right]<target:\n",
        "      return right+1\n",
        "    if nums[left]>target:\n",
        "      return left\n",
        "    while left < right:\n",
        "      middle=int(abs((right+left)/2))\n",
        "      if nums[middle] > target:  # target in left half list\n",
        "            right = middle\n",
        "      else:\n",
        "            left = middle+1\n",
        "\n",
        "    return right\n",
        "\n",
        "nums=[3,5,6,7,9,11]\n",
        "target = 8\n",
        "searchInsert(nums,target)"
      ],
      "execution_count": 50,
      "outputs": [
        {
          "output_type": "execute_result",
          "data": {
            "text/plain": [
              "5"
            ]
          },
          "metadata": {},
          "execution_count": 50
        }
      ]
    }
  ]
}