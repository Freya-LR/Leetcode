{
  "nbformat": 4,
  "nbformat_minor": 0,
  "metadata": {
    "colab": {
      "name": "26. Remove Duplicates from Sorted Array.ipynb",
      "provenance": [],
      "authorship_tag": "ABX9TyNdZtC50PEQHOi1yWAvWMFT",
      "include_colab_link": true
    },
    "kernelspec": {
      "name": "python3",
      "display_name": "Python 3"
    },
    "language_info": {
      "name": "python"
    }
  },
  "cells": [
    {
      "cell_type": "markdown",
      "metadata": {
        "id": "view-in-github",
        "colab_type": "text"
      },
      "source": [
        "<a href=\"https://colab.research.google.com/github/Freya-LR/Leetcode/blob/main/7.%20Reverse%20Integer.ipynb\" target=\"_parent\"><img src=\"https://colab.research.google.com/assets/colab-badge.svg\" alt=\"Open In Colab\"/></a>"
      ]
    },
    {
      "cell_type": "code",
      "metadata": {
        "id": "PJp5ZXsd3oKY"
      },
      "source": [
        "# Math\n",
        "# str(x): convert int to string\n",
        "# [::-1]: reverse string\n",
        "# if x=-123, int(str(x)[::-1]) = 321-, so first get the last digit \"-\" :int(str(x)[::-1][-1], then get \"321\"\n",
        "class Solution:\n",
        "    def reverse(self, x):\n",
        "        \"\"\"\n",
        "        type x: int\n",
        "        rtype: int\n",
        "        \"\"\"\n",
        "        if x < 0:\n",
        "            x = int(str(x)[::-1][-1]+str(x)[::-1][:-1])            \n",
        "        else: \n",
        "            x = int(str(x)[::-1])\n",
        "        \n",
        "        if abs(x) > 0x7FFFFFFF:\n",
        "            x= 0\n",
        "        else: \n",
        "            x\n",
        "        return x\n",
        "        \n"
      ],
      "execution_count": null,
      "outputs": []
    },
    {
      "cell_type": "code",
      "metadata": {
        "colab": {
          "base_uri": "https://localhost:8080/",
          "height": 35
        },
        "id": "ygoa0KCfK22Z",
        "outputId": "24bd02b3-31ad-47d4-f372-b5190489bbbd"
      },
      "source": [
        "x=0\n",
        "str(x)[::-1]"
      ],
      "execution_count": 81,
      "outputs": [
        {
          "output_type": "execute_result",
          "data": {
            "application/vnd.google.colaboratory.intrinsic+json": {
              "type": "string"
            },
            "text/plain": [
              "'0'"
            ]
          },
          "metadata": {},
          "execution_count": 81
        }
      ]
    }
  ]
}