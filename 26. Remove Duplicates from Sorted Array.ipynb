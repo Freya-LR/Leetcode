{
  "nbformat": 4,
  "nbformat_minor": 0,
  "metadata": {
    "colab": {
      "name": "26. Remove Duplicates from Sorted Array.ipynb",
      "provenance": [],
      "authorship_tag": "ABX9TyOOtJxPmsvQlJobfC2Sum17",
      "include_colab_link": true
    },
    "kernelspec": {
      "name": "python3",
      "display_name": "Python 3"
    },
    "language_info": {
      "name": "python"
    }
  },
  "cells": [
    {
      "cell_type": "markdown",
      "metadata": {
        "id": "view-in-github",
        "colab_type": "text"
      },
      "source": [
        "<a href=\"https://colab.research.google.com/github/Freya-LR/Leetcode/blob/main/26.%20Remove%20Duplicates%20from%20Sorted%20Array.ipynb\" target=\"_parent\"><img src=\"https://colab.research.google.com/assets/colab-badge.svg\" alt=\"Open In Colab\"/></a>"
      ]
    },
    {
      "cell_type": "code",
      "metadata": {
        "id": "PJp5ZXsd3oKY"
      },
      "source": [
        "# Array\n",
        "# hint: Tme complexity is O(N), Space complexity is O(1), this method double indice only can be used when the input array is sorted,  \n",
        "# fast index and slow index. When fast index= slow index, fast index moves to next index;\n",
        "# when fast index != slow index, both move to their next indice\n",
        "class Solution:\n",
        "    def removeDuplicates(self, nums: List[int]) -> int:\n",
        "        if len(nums)<=1: return len(nums) # array nums has edge constraint : 0 <= nums.length <= 3 * 104, -100 <= nums[i] <= 100\n",
        "        index = 1\n",
        "        for i in range(1,len(nums)):\n",
        "          if nums[i] != nums[i-1]:\n",
        "            nums[index]=nums[i]   # output nums is updated by new unduplicated array\n",
        "            index +=1\n",
        "        return index\n",
        "        \n",
        "          "
      ],
      "execution_count": null,
      "outputs": []
    }
  ]
}