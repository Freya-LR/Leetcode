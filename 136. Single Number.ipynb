{
  "nbformat": 4,
  "nbformat_minor": 0,
  "metadata": {
    "colab": {
      "name": "Untitled0.ipynb",
      "provenance": [],
      "authorship_tag": "ABX9TyMltaDFK3mosc/r0rmX0+Os",
      "include_colab_link": true
    },
    "kernelspec": {
      "name": "python3",
      "display_name": "Python 3"
    },
    "language_info": {
      "name": "python"
    }
  },
  "cells": [
    {
      "cell_type": "markdown",
      "metadata": {
        "id": "view-in-github",
        "colab_type": "text"
      },
      "source": [
        "<a href=\"https://colab.research.google.com/github/Freya-LR/Leetcode/blob/main/136.%20Single%20Number.ipynb\" target=\"_parent\"><img src=\"https://colab.research.google.com/assets/colab-badge.svg\" alt=\"Open In Colab\"/></a>"
      ]
    },
    {
      "cell_type": "code",
      "metadata": {
        "id": "PJp5ZXsd3oKY"
      },
      "source": [
        "# Tme complexity is O(N), Space complexity is O(1), we can neither use mapping method, nor sorting/ranking method\n",
        "# the only option is XOR(Exclusive or) method, to operate this method, we need lambda() function inside reduce() funtion \n",
        "class Solution:\n",
        "    def singleNumber(self, nums: List[int]) -> int:\n",
        "        return reduce(lambda x,y:x^y,nums)"
      ],
      "execution_count": null,
      "outputs": []
    }
  ]
}