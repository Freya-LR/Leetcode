{
  "nbformat": 4,
  "nbformat_minor": 0,
  "metadata": {
    "colab": {
      "name": "26. Remove Duplicates from Sorted Array.ipynb",
      "provenance": [],
      "authorship_tag": "ABX9TyNHcV+JQGt0zO92AU59vOYM",
      "include_colab_link": true
    },
    "kernelspec": {
      "name": "python3",
      "display_name": "Python 3"
    },
    "language_info": {
      "name": "python"
    }
  },
  "cells": [
    {
      "cell_type": "markdown",
      "metadata": {
        "id": "view-in-github",
        "colab_type": "text"
      },
      "source": [
        "<a href=\"https://colab.research.google.com/github/Freya-LR/Leetcode/blob/main/9.%20Palindrome%20Number.ipynb\" target=\"_parent\"><img src=\"https://colab.research.google.com/assets/colab-badge.svg\" alt=\"Open In Colab\"/></a>"
      ]
    },
    {
      "cell_type": "code",
      "metadata": {
        "id": "PJp5ZXsd3oKY"
      },
      "source": [
        "# Math\n",
        "# str(x): convert int to string\n",
        "# [::-1]: reverse string\n",
        "# if x=-121, str(x)[::-1] = '121-', '-121' is not palindrome\n",
        "class Solution:\n",
        "    def isPalindrome(self, x):\n",
        "        \"\"\"\n",
        "        type x: int\n",
        "        rtype: bool\n",
        "        \"\"\"\n",
        "        if  x<0:\n",
        "          return False\n",
        "        return str(x) == str(x)[::-1]\n",
        "\n",
        "        \n",
        "\n",
        "        \n"
      ],
      "execution_count": 98,
      "outputs": []
    },
    {
      "cell_type": "code",
      "metadata": {
        "colab": {
          "base_uri": "https://localhost:8080/"
        },
        "id": "ygoa0KCfK22Z",
        "outputId": "e7217eba-67d3-423f-baf6-7cdaf4570075"
      },
      "source": [
        "x=-121\n",
        "isPalindrome(x)"
      ],
      "execution_count": 100,
      "outputs": [
        {
          "output_type": "execute_result",
          "data": {
            "text/plain": [
              "False"
            ]
          },
          "metadata": {},
          "execution_count": 100
        }
      ]
    }
  ]
}